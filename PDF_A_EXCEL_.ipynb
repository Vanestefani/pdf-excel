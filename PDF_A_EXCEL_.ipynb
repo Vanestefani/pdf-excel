{
  "nbformat": 4,
  "nbformat_minor": 0,
  "metadata": {
    "colab": {
      "provenance": []
    },
    "kernelspec": {
      "name": "python3",
      "display_name": "Python 3"
    },
    "language_info": {
      "name": "python"
    }
  },
  "cells": [
    {
      "cell_type": "markdown",
      "source": [
        "Antes de empezar, debes asegurarte de tener instaladas las siguientes bibliotecas en tu entorno de Colab:\n",
        "* tabula-py: para leer y extraer tablas de archivos PDF.\n",
        "* PyPDF2: para leer los metadatos de los archivos PDF.\n",
        "* pandas: para manipular y trabajar con los datos de la tabla extraída.\n",
        "* matplotlib: para visualizar los datos de la tabla extraída.\n",
        "\n",
        "Para instalar estas bibliotecas, puedes ejecutar el siguiente código:"
      ],
      "metadata": {
        "id": "ADfRRyLXh3a-"
      }
    },
    {
      "cell_type": "code",
      "source": [
        "!pip install tabula-py PyPDF2 pandas matplotlib"
      ],
      "metadata": {
        "colab": {
          "base_uri": "https://localhost:8080/"
        },
        "id": "nU_Me7adjL5M",
        "outputId": "c4914483-7229-4e64-e39e-9cf7fc304bed"
      },
      "execution_count": 2,
      "outputs": [
        {
          "output_type": "stream",
          "name": "stdout",
          "text": [
            "Looking in indexes: https://pypi.org/simple, https://us-python.pkg.dev/colab-wheels/public/simple/\n",
            "Collecting tabula-py\n",
            "  Downloading tabula_py-2.7.0-py3-none-any.whl (12.0 MB)\n",
            "\u001b[2K     \u001b[90m━━━━━━━━━━━━━━━━━━━━━━━━━━━━━━━━━━━━━━━━\u001b[0m \u001b[32m12.0/12.0 MB\u001b[0m \u001b[31m44.6 MB/s\u001b[0m eta \u001b[36m0:00:00\u001b[0m\n",
            "\u001b[?25hCollecting PyPDF2\n",
            "  Downloading pypdf2-3.0.1-py3-none-any.whl (232 kB)\n",
            "\u001b[2K     \u001b[90m━━━━━━━━━━━━━━━━━━━━━━━━━━━━━━━━━━━━━━\u001b[0m \u001b[32m232.6/232.6 KB\u001b[0m \u001b[31m17.7 MB/s\u001b[0m eta \u001b[36m0:00:00\u001b[0m\n",
            "\u001b[?25hRequirement already satisfied: pandas in /usr/local/lib/python3.8/dist-packages (1.3.5)\n",
            "Requirement already satisfied: matplotlib in /usr/local/lib/python3.8/dist-packages (3.5.3)\n",
            "Requirement already satisfied: numpy in /usr/local/lib/python3.8/dist-packages (from tabula-py) (1.22.4)\n",
            "Collecting distro\n",
            "  Downloading distro-1.8.0-py3-none-any.whl (20 kB)\n",
            "Requirement already satisfied: typing_extensions>=3.10.0.0 in /usr/local/lib/python3.8/dist-packages (from PyPDF2) (4.5.0)\n",
            "Requirement already satisfied: python-dateutil>=2.7.3 in /usr/local/lib/python3.8/dist-packages (from pandas) (2.8.2)\n",
            "Requirement already satisfied: pytz>=2017.3 in /usr/local/lib/python3.8/dist-packages (from pandas) (2022.7.1)\n",
            "Requirement already satisfied: cycler>=0.10 in /usr/local/lib/python3.8/dist-packages (from matplotlib) (0.11.0)\n",
            "Requirement already satisfied: packaging>=20.0 in /usr/local/lib/python3.8/dist-packages (from matplotlib) (23.0)\n",
            "Requirement already satisfied: kiwisolver>=1.0.1 in /usr/local/lib/python3.8/dist-packages (from matplotlib) (1.4.4)\n",
            "Requirement already satisfied: pyparsing>=2.2.1 in /usr/local/lib/python3.8/dist-packages (from matplotlib) (3.0.9)\n",
            "Requirement already satisfied: fonttools>=4.22.0 in /usr/local/lib/python3.8/dist-packages (from matplotlib) (4.38.0)\n",
            "Requirement already satisfied: pillow>=6.2.0 in /usr/local/lib/python3.8/dist-packages (from matplotlib) (7.1.2)\n",
            "Requirement already satisfied: six>=1.5 in /usr/local/lib/python3.8/dist-packages (from python-dateutil>=2.7.3->pandas) (1.15.0)\n",
            "Installing collected packages: PyPDF2, distro, tabula-py\n",
            "Successfully installed PyPDF2-3.0.1 distro-1.8.0 tabula-py-2.7.0\n"
          ]
        }
      ]
    },
    {
      "cell_type": "markdown",
      "source": [
        "Una vez instaladas las bibliotecas, puedes seguir los siguientes pasos para abrir un archivo PDF y extraer una tabla en un entorno de Google Colaboratory:\n",
        "1. Carga el archivo PDF en Colab utilizando el siguiente código:"
      ],
      "metadata": {
        "id": "CxWbhM8LjRG9"
      }
    },
    {
      "cell_type": "code",
      "source": [
        "from google.colab import files\n",
        "uploaded = files.upload()\n",
        "\n",
        "# Obtiene el nombre del archivo cargado\n",
        "file_name = list(uploaded.keys())[0]\n",
        "\n",
        "# Imprime el nombre del archivo cargado\n",
        "print(\"El archivo cargado es:\", file_name)"
      ],
      "metadata": {
        "colab": {
          "base_uri": "https://localhost:8080/",
          "height": 91
        },
        "id": "CNWi4mhCjX3D",
        "outputId": "24aa74a2-3a8c-4eff-a068-55be3ffe4147"
      },
      "execution_count": 3,
      "outputs": [
        {
          "output_type": "display_data",
          "data": {
            "text/plain": [
              "<IPython.core.display.HTML object>"
            ],
            "text/html": [
              "\n",
              "     <input type=\"file\" id=\"files-2711cdf8-cd11-4db5-bc77-e90978fe7dab\" name=\"files[]\" multiple disabled\n",
              "        style=\"border:none\" />\n",
              "     <output id=\"result-2711cdf8-cd11-4db5-bc77-e90978fe7dab\">\n",
              "      Upload widget is only available when the cell has been executed in the\n",
              "      current browser session. Please rerun this cell to enable.\n",
              "      </output>\n",
              "      <script>// Copyright 2017 Google LLC\n",
              "//\n",
              "// Licensed under the Apache License, Version 2.0 (the \"License\");\n",
              "// you may not use this file except in compliance with the License.\n",
              "// You may obtain a copy of the License at\n",
              "//\n",
              "//      http://www.apache.org/licenses/LICENSE-2.0\n",
              "//\n",
              "// Unless required by applicable law or agreed to in writing, software\n",
              "// distributed under the License is distributed on an \"AS IS\" BASIS,\n",
              "// WITHOUT WARRANTIES OR CONDITIONS OF ANY KIND, either express or implied.\n",
              "// See the License for the specific language governing permissions and\n",
              "// limitations under the License.\n",
              "\n",
              "/**\n",
              " * @fileoverview Helpers for google.colab Python module.\n",
              " */\n",
              "(function(scope) {\n",
              "function span(text, styleAttributes = {}) {\n",
              "  const element = document.createElement('span');\n",
              "  element.textContent = text;\n",
              "  for (const key of Object.keys(styleAttributes)) {\n",
              "    element.style[key] = styleAttributes[key];\n",
              "  }\n",
              "  return element;\n",
              "}\n",
              "\n",
              "// Max number of bytes which will be uploaded at a time.\n",
              "const MAX_PAYLOAD_SIZE = 100 * 1024;\n",
              "\n",
              "function _uploadFiles(inputId, outputId) {\n",
              "  const steps = uploadFilesStep(inputId, outputId);\n",
              "  const outputElement = document.getElementById(outputId);\n",
              "  // Cache steps on the outputElement to make it available for the next call\n",
              "  // to uploadFilesContinue from Python.\n",
              "  outputElement.steps = steps;\n",
              "\n",
              "  return _uploadFilesContinue(outputId);\n",
              "}\n",
              "\n",
              "// This is roughly an async generator (not supported in the browser yet),\n",
              "// where there are multiple asynchronous steps and the Python side is going\n",
              "// to poll for completion of each step.\n",
              "// This uses a Promise to block the python side on completion of each step,\n",
              "// then passes the result of the previous step as the input to the next step.\n",
              "function _uploadFilesContinue(outputId) {\n",
              "  const outputElement = document.getElementById(outputId);\n",
              "  const steps = outputElement.steps;\n",
              "\n",
              "  const next = steps.next(outputElement.lastPromiseValue);\n",
              "  return Promise.resolve(next.value.promise).then((value) => {\n",
              "    // Cache the last promise value to make it available to the next\n",
              "    // step of the generator.\n",
              "    outputElement.lastPromiseValue = value;\n",
              "    return next.value.response;\n",
              "  });\n",
              "}\n",
              "\n",
              "/**\n",
              " * Generator function which is called between each async step of the upload\n",
              " * process.\n",
              " * @param {string} inputId Element ID of the input file picker element.\n",
              " * @param {string} outputId Element ID of the output display.\n",
              " * @return {!Iterable<!Object>} Iterable of next steps.\n",
              " */\n",
              "function* uploadFilesStep(inputId, outputId) {\n",
              "  const inputElement = document.getElementById(inputId);\n",
              "  inputElement.disabled = false;\n",
              "\n",
              "  const outputElement = document.getElementById(outputId);\n",
              "  outputElement.innerHTML = '';\n",
              "\n",
              "  const pickedPromise = new Promise((resolve) => {\n",
              "    inputElement.addEventListener('change', (e) => {\n",
              "      resolve(e.target.files);\n",
              "    });\n",
              "  });\n",
              "\n",
              "  const cancel = document.createElement('button');\n",
              "  inputElement.parentElement.appendChild(cancel);\n",
              "  cancel.textContent = 'Cancel upload';\n",
              "  const cancelPromise = new Promise((resolve) => {\n",
              "    cancel.onclick = () => {\n",
              "      resolve(null);\n",
              "    };\n",
              "  });\n",
              "\n",
              "  // Wait for the user to pick the files.\n",
              "  const files = yield {\n",
              "    promise: Promise.race([pickedPromise, cancelPromise]),\n",
              "    response: {\n",
              "      action: 'starting',\n",
              "    }\n",
              "  };\n",
              "\n",
              "  cancel.remove();\n",
              "\n",
              "  // Disable the input element since further picks are not allowed.\n",
              "  inputElement.disabled = true;\n",
              "\n",
              "  if (!files) {\n",
              "    return {\n",
              "      response: {\n",
              "        action: 'complete',\n",
              "      }\n",
              "    };\n",
              "  }\n",
              "\n",
              "  for (const file of files) {\n",
              "    const li = document.createElement('li');\n",
              "    li.append(span(file.name, {fontWeight: 'bold'}));\n",
              "    li.append(span(\n",
              "        `(${file.type || 'n/a'}) - ${file.size} bytes, ` +\n",
              "        `last modified: ${\n",
              "            file.lastModifiedDate ? file.lastModifiedDate.toLocaleDateString() :\n",
              "                                    'n/a'} - `));\n",
              "    const percent = span('0% done');\n",
              "    li.appendChild(percent);\n",
              "\n",
              "    outputElement.appendChild(li);\n",
              "\n",
              "    const fileDataPromise = new Promise((resolve) => {\n",
              "      const reader = new FileReader();\n",
              "      reader.onload = (e) => {\n",
              "        resolve(e.target.result);\n",
              "      };\n",
              "      reader.readAsArrayBuffer(file);\n",
              "    });\n",
              "    // Wait for the data to be ready.\n",
              "    let fileData = yield {\n",
              "      promise: fileDataPromise,\n",
              "      response: {\n",
              "        action: 'continue',\n",
              "      }\n",
              "    };\n",
              "\n",
              "    // Use a chunked sending to avoid message size limits. See b/62115660.\n",
              "    let position = 0;\n",
              "    do {\n",
              "      const length = Math.min(fileData.byteLength - position, MAX_PAYLOAD_SIZE);\n",
              "      const chunk = new Uint8Array(fileData, position, length);\n",
              "      position += length;\n",
              "\n",
              "      const base64 = btoa(String.fromCharCode.apply(null, chunk));\n",
              "      yield {\n",
              "        response: {\n",
              "          action: 'append',\n",
              "          file: file.name,\n",
              "          data: base64,\n",
              "        },\n",
              "      };\n",
              "\n",
              "      let percentDone = fileData.byteLength === 0 ?\n",
              "          100 :\n",
              "          Math.round((position / fileData.byteLength) * 100);\n",
              "      percent.textContent = `${percentDone}% done`;\n",
              "\n",
              "    } while (position < fileData.byteLength);\n",
              "  }\n",
              "\n",
              "  // All done.\n",
              "  yield {\n",
              "    response: {\n",
              "      action: 'complete',\n",
              "    }\n",
              "  };\n",
              "}\n",
              "\n",
              "scope.google = scope.google || {};\n",
              "scope.google.colab = scope.google.colab || {};\n",
              "scope.google.colab._files = {\n",
              "  _uploadFiles,\n",
              "  _uploadFilesContinue,\n",
              "};\n",
              "})(self);\n",
              "</script> "
            ]
          },
          "metadata": {}
        },
        {
          "output_type": "stream",
          "name": "stdout",
          "text": [
            "Saving descargar.pdf to descargar.pdf\n",
            "El archivo cargado es: descargar.pdf\n"
          ]
        }
      ]
    },
    {
      "cell_type": "markdown",
      "source": [
        "El código anterior abrirá una ventana de diálogo donde podrás seleccionar el archivo PDF que deseas cargar. Una vez cargado, se guardará en la variable \"uploaded\".\n",
        "\n",
        "2. Lee los metadatos del archivo PDF utilizando la biblioteca PyPDF2:"
      ],
      "metadata": {
        "id": "ryqrhWIDjc9E"
      }
    },
    {
      "cell_type": "code",
      "source": [
        "import io\n",
        "import google.colab.files as files\n",
        "from PyPDF2 import PdfReader\n",
        "\n",
        "\n",
        "# Lee el archivo PDF\n",
        "pdf = PdfReader(io.BytesIO(uploaded[file_name]))\n",
        "# Imprime los metadatos del archivo PDF\n",
        "# Imprime los metadatos del archivo PDF\n",
        "print(pdf.metadata)"
      ],
      "metadata": {
        "colab": {
          "base_uri": "https://localhost:8080/"
        },
        "id": "wSvwx3f6jgO-",
        "outputId": "53b19545-1db2-460a-f520-df2ff201dec3"
      },
      "execution_count": 4,
      "outputs": [
        {
          "output_type": "stream",
          "name": "stdout",
          "text": [
            "{'/Author': 'Fiserv - Fiserv', '/CreationDate': \"D:20230226200929+05'00'\", '/Creator': 'PScript5.dll Version 5.2.2', '/ModDate': \"D:20230226200928-05'00'\", '/Producer': 'Jaws PDF Library 3.62.2936; modified using iText® 7.0.0 ©2000-2016 iText Group NV (AGPL-version)', '/Title': 'ESTADOALDIA_2972270_20230226'}\n"
          ]
        }
      ]
    },
    {
      "cell_type": "markdown",
      "source": [
        "El código anterior imprimirá los metadatos del archivo PDF, como el título, el autor, la fecha de creación, etc.\n",
        "\n",
        "3.Utiliza la biblioteca tabula-py para extraer la tabla del archivo PDF:"
      ],
      "metadata": {
        "id": "U3xBevBflkk6"
      }
    },
    {
      "cell_type": "code",
      "source": [
        "import tabula\n",
        "import pandas as pd\n",
        "\n",
        "# Definir la página de inicio\n",
        "start_page = 2\n",
        "finish_page = 3\n",
        "\n",
        "# Definir los límites de la región de la página que se va a leer\n",
        "top = 10\n",
        "left = 10\n",
        "bottom = 780  \n",
        "right = 1100\n",
        "\n",
        "\n",
        "# Leer pagina 2\n",
        "df1_list = tabula.read_pdf(file_name, pages=start_page, area=[top, left, bottom, right], multiple_tables=True, pandas_options={'header': 1})\n",
        "# Leer pagina 3\n",
        "df2_list = tabula.read_pdf(file_name, pages=finish_page, area=[top, left, bottom, right], multiple_tables=True, pandas_options={'header': 1})\n",
        "\n",
        "# Convertir cada lista en un DataFrame\n",
        "df1 = pd.concat(df1_list, ignore_index=True)\n",
        "df2 = pd.concat(df2_list, ignore_index=True)\n",
        "\n",
        "# Eliminar filas en blanco en el DataFrame df1\n",
        "df1.dropna(subset=df1.columns, how='all', inplace=True)\n",
        "# Eliminar filas en blanco en el DataFrame df2\n",
        "df2.dropna(subset=df2.columns, how='all', inplace=True)\n",
        "\n",
        "# Unir las dos secciones de la tabla\n",
        "tabla_completa = pd.concat([df1, df2], ignore_index=True)\n",
        "\n",
        "\n",
        "# Imprimir la tabla\n",
        "print(tabla_completa)"
      ],
      "metadata": {
        "colab": {
          "base_uri": "https://localhost:8080/"
        },
        "id": "aBwCkSsclyKh",
        "outputId": "5ac135b7-3c8f-4af9-b02f-fc22da7ac8ce"
      },
      "execution_count": 28,
      "outputs": [
        {
          "output_type": "stream",
          "name": "stderr",
          "text": [
            "WARNING:tabula.io:Got stderr: Feb 27, 2023 3:26:53 AM org.apache.pdfbox.pdmodel.font.PDType1Font <init>\n",
            "WARNING: Using fallback font LiberationSans for base font Symbol\n",
            "Feb 27, 2023 3:26:53 AM org.apache.pdfbox.pdmodel.font.PDType1Font <init>\n",
            "WARNING: Using fallback font LiberationSans for base font ZapfDingbats\n",
            "\n",
            "WARNING:tabula.io:Got stderr: Feb 27, 2023 3:26:55 AM org.apache.pdfbox.pdmodel.font.PDType1Font <init>\n",
            "WARNING: Using fallback font LiberationSans for base font Symbol\n",
            "Feb 27, 2023 3:26:55 AM org.apache.pdfbox.pdmodel.font.PDType1Font <init>\n",
            "WARNING: Using fallback font LiberationSans for base font ZapfDingbats\n",
            "\n"
          ]
        },
        {
          "output_type": "stream",
          "name": "stdout",
          "text": [
            "    Número Cuota  Fecha Pago Valor Cuota Pago Capital Pago Intereses  \\\n",
            "0            1.0  2023-03-05  173.847,81    69.029,80     104.818,01   \n",
            "1            2.0  2023-04-05  173.251,69    69.191,60     104.060,09   \n",
            "2            3.0  2023-05-05  173.251,69    70.021,33     103.230,36   \n",
            "3            4.0  2023-06-05  173.251,69    70.861,00     102.390,69   \n",
            "4            5.0  2023-07-05  173.251,69    71.710,74     101.540,95   \n",
            "..           ...         ...         ...          ...            ...   \n",
            "73          74.0  2029-04-05  173.251,69   163.227,31      10.024,38   \n",
            "74          75.0  2029-05-05  173.251,69   165.184,67       8.067,02   \n",
            "75          76.0  2029-06-05  173.251,69   167.165,51       6.086,18   \n",
            "76          77.0  2029-07-05  173.251,69   169.170,11       4.081,58   \n",
            "77          78.0  2029-08-05  173.251,16   171.198,21       2.052,95   \n",
            "\n",
            "   Intereses de\\rmora Cargo Otros         Saldo  Edad de mora      Estado  \n",
            "0                0,00  0,00  0,00  8.677.699,97           0.0   FACTURADA  \n",
            "1                0,00  0,00  0,00  8.608.508,37           0.0  PROYECTADA  \n",
            "2                0,00  0,00  0,00  8.538.487,04           0.0  PROYECTADA  \n",
            "3                0,00  0,00  0,00  8.467.626,04           0.0  PROYECTADA  \n",
            "4                0,00  0,00  0,00  8.395.915,30           0.0  PROYECTADA  \n",
            "..                ...   ...   ...           ...           ...         ...  \n",
            "73               0,00  0,00  0,00    672.718,50           0.0  PROYECTADA  \n",
            "74               0,00  0,00  0,00    507.533,83           0.0  PROYECTADA  \n",
            "75               0,00  0,00  0,00    340.368,31           0.0  PROYECTADA  \n",
            "76               0,00  0,00  0,00    171.198,21           0.0  PROYECTADA  \n",
            "77               0,00  0,00  0,00          0,00           0.0  PROYECTADA  \n",
            "\n",
            "[78 rows x 11 columns]\n"
          ]
        }
      ]
    },
    {
      "cell_type": "markdown",
      "source": [
        "Para guardar la tabla en un archivo CSV, puedes usar el método to_csv de pandas. Por ejemplo:"
      ],
      "metadata": {
        "id": "A1CNo0ktyLqt"
      }
    },
    {
      "cell_type": "code",
      "source": [
        "tabla_completa.to_csv('tabla_completa.csv', index=False)"
      ],
      "metadata": {
        "id": "5krU6TFryNsZ"
      },
      "execution_count": 29,
      "outputs": []
    },
    {
      "cell_type": "markdown",
      "source": [
        "Esto guardará la tabla completa en un archivo CSV llamado \"tabla_completa.csv\" en el directorio actual, sin incluir el índice.\n",
        "\n",
        "Para guardar la tabla en un archivo Excel, puedes usar el método to_excel de pandas. Por ejemplo:\n",
        "\n"
      ],
      "metadata": {
        "id": "HMWUhA-iyS7v"
      }
    },
    {
      "cell_type": "code",
      "source": [
        "tabla_completa.to_excel('tabla_completa.xlsx', index=False)"
      ],
      "metadata": {
        "id": "QlW-xMjlyUxG"
      },
      "execution_count": 30,
      "outputs": []
    }
  ]
}